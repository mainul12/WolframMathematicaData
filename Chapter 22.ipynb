{
 "cells": [
  {
   "cell_type": "code",
   "execution_count": 2,
   "id": "120f5777",
   "metadata": {},
   "outputs": [
    {
     "data": {
      "text/html": [
       "<div><img alt=\"Output\" src=\"data:image/png;base64,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\"></div>"
      ],
      "text/plain": [
       "-Graphics-"
      ]
     },
     "execution_count": 2,
     "metadata": {
      "text/html": [],
      "text/plain": []
     },
     "output_type": "execute_result"
    }
   ],
   "source": [
    "Histogram[Table[Mean[RandomVariate[NormalDistribution[4, 1], 100]], 1000]]"
   ]
  },
  {
   "cell_type": "code",
   "execution_count": 3,
   "id": "61bca01a",
   "metadata": {},
   "outputs": [
    {
     "data": {
      "text/html": [
       "<div><img alt=\"Output\" src=\"data:image/png;base64,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\"></div>"
      ],
      "text/plain": [
       "NormalDistribution[4.00147, 0.103008]"
      ]
     },
     "execution_count": 3,
     "metadata": {
      "text/html": [],
      "text/plain": []
     },
     "output_type": "execute_result"
    }
   ],
   "source": [
    "FindDistribution[Table[Mean[RandomVariate[NormalDistribution[4, 1], 100]], 1000]]"
   ]
  },
  {
   "cell_type": "code",
   "execution_count": null,
   "id": "45b1e2aa",
   "metadata": {},
   "outputs": [],
   "source": [
    "Probability[x >= 4.5]"
   ]
  },
  {
   "cell_type": "code",
   "execution_count": 4,
   "id": "5011071a",
   "metadata": {},
   "outputs": [
    {
     "data": {
      "text/html": [
       "<div><pre style=\"&#102;&#111;&#110;&#116;&#45;&#102;&#97;&#109;&#105;&#108;&#121;&#58;&#32;&#34;&#67;&#111;&#117;&#114;&#105;&#101;&#114;&#32;&#78;&#101;&#119;&#34;&#44;&#67;&#111;&#117;&#114;&#105;&#101;&#114;&#44;&#109;&#111;&#110;&#111;&#115;&#112;&#97;&#99;&#101;&#59;\">&#32;&#32;&#32;&#32;&#32;&#32;&#32;&#32;&#32;&#32;&#45;&#55;&#10;&#50;&#46;&#56;&#54;&#54;&#53;&#50;&#32;&#49;&#48;</pre></div>"
      ],
      "text/plain": [
       "          -7\n",
       "2.86652 10"
      ]
     },
     "execution_count": 4,
     "metadata": {
      "text/html": [],
      "text/plain": []
     },
     "output_type": "execute_result"
    }
   ],
   "source": [
    "Probability[x>=4.5, x \\[Distributed] NormalDistribution[4, 0.1]]"
   ]
  },
  {
   "cell_type": "code",
   "execution_count": null,
   "id": "b36001d8",
   "metadata": {},
   "outputs": [],
   "source": []
  }
 ],
 "metadata": {
  "kernelspec": {
   "display_name": "Wolfram Language 12.3",
   "language": "Wolfram Language",
   "name": "wolframlanguage12.3"
  },
  "language_info": {
   "codemirror_mode": "mathematica",
   "file_extension": ".m",
   "mimetype": "application/vnd.wolfram.m",
   "name": "Wolfram Language",
   "pygments_lexer": "mathematica",
   "version": "12.0"
  }
 },
 "nbformat": 4,
 "nbformat_minor": 5
}
