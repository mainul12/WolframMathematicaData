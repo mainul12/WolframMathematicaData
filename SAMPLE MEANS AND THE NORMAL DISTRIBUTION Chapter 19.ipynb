{
 "cells": [
  {
   "cell_type": "markdown",
   "id": "0bc5cb38",
   "metadata": {},
   "source": [
    "Assuming 1-7 is normally distributed "
   ]
  },
  {
   "cell_type": "code",
   "execution_count": 2,
   "id": "131de847",
   "metadata": {},
   "outputs": [
    {
     "data": {
      "text/html": [
       "<div><pre style=\"&#102;&#111;&#110;&#116;&#45;&#102;&#97;&#109;&#105;&#108;&#121;&#58;&#32;&#34;&#67;&#111;&#117;&#114;&#105;&#101;&#114;&#32;&#78;&#101;&#119;&#34;&#44;&#67;&#111;&#117;&#114;&#105;&#101;&#114;&#44;&#109;&#111;&#110;&#111;&#115;&#112;&#97;&#99;&#101;&#59;\">&#123;&#52;&#44;&#32;&#52;&#44;&#32;&#55;&#44;&#32;&#52;&#44;&#32;&#52;&#44;&#32;&#53;&#44;&#32;&#54;&#44;&#32;&#49;&#44;&#32;&#54;&#44;&#32;&#53;&#44;&#32;&#50;&#44;&#32;&#49;&#44;&#32;&#49;&#44;&#32;&#49;&#44;&#32;&#50;&#44;&#32;&#51;&#44;&#32;&#51;&#44;&#32;&#55;&#44;&#32;&#50;&#44;&#32;&#52;&#44;&#32;&#52;&#44;&#32;&#55;&#44;&#32;&#51;&#44;&#32;&#49;&#44;&#32;&#55;&#44;&#32;&#53;&#44;&#32;&#49;&#44;&#32;&#49;&#44;&#32;&#52;&#44;&#32;&#10;&#32;&#10;&#62;&#32;&#32;&#32;&#51;&#44;&#32;&#52;&#44;&#32;&#52;&#44;&#32;&#51;&#44;&#32;&#50;&#44;&#32;&#49;&#44;&#32;&#54;&#44;&#32;&#52;&#44;&#32;&#51;&#44;&#32;&#54;&#44;&#32;&#50;&#44;&#32;&#51;&#44;&#32;&#53;&#44;&#32;&#53;&#44;&#32;&#49;&#44;&#32;&#51;&#44;&#32;&#55;&#44;&#32;&#54;&#44;&#32;&#51;&#44;&#32;&#53;&#44;&#32;&#53;&#44;&#32;&#53;&#44;&#32;&#50;&#44;&#32;&#53;&#44;&#32;&#50;&#44;&#32;&#49;&#44;&#32;&#53;&#44;&#32;&#52;&#44;&#32;&#10;&#32;&#10;&#62;&#32;&#32;&#32;&#52;&#44;&#32;&#52;&#44;&#32;&#55;&#44;&#32;&#49;&#44;&#32;&#54;&#44;&#32;&#49;&#44;&#32;&#53;&#44;&#32;&#52;&#44;&#32;&#50;&#44;&#32;&#51;&#44;&#32;&#55;&#44;&#32;&#54;&#44;&#32;&#49;&#44;&#32;&#49;&#44;&#32;&#55;&#44;&#32;&#55;&#44;&#32;&#55;&#44;&#32;&#54;&#44;&#32;&#53;&#44;&#32;&#50;&#44;&#32;&#49;&#44;&#32;&#49;&#44;&#32;&#51;&#44;&#32;&#54;&#44;&#32;&#50;&#44;&#32;&#55;&#44;&#32;&#51;&#44;&#32;&#52;&#44;&#32;&#10;&#32;&#10;&#62;&#32;&#32;&#32;&#50;&#44;&#32;&#52;&#44;&#32;&#52;&#44;&#32;&#55;&#44;&#32;&#53;&#44;&#32;&#54;&#44;&#32;&#52;&#44;&#32;&#53;&#44;&#32;&#55;&#44;&#32;&#54;&#44;&#32;&#51;&#44;&#32;&#51;&#44;&#32;&#50;&#44;&#32;&#52;&#44;&#32;&#54;&#125;</pre></div>"
      ],
      "text/plain": [
       "{4, 4, 7, 4, 4, 5, 6, 1, 6, 5, 2, 1, 1, 1, 2, 3, 3, 7, 2, 4, 4, 7, 3, 1, 7, 5, 1, 1, 4, \n",
       " \n",
       ">   3, 4, 4, 3, 2, 1, 6, 4, 3, 6, 2, 3, 5, 5, 1, 3, 7, 6, 3, 5, 5, 5, 2, 5, 2, 1, 5, 4, \n",
       " \n",
       ">   4, 4, 7, 1, 6, 1, 5, 4, 2, 3, 7, 6, 1, 1, 7, 7, 7, 6, 5, 2, 1, 1, 3, 6, 2, 7, 3, 4, \n",
       " \n",
       ">   2, 4, 4, 7, 5, 6, 4, 5, 7, 6, 3, 3, 2, 4, 6}"
      ]
     },
     "execution_count": 2,
     "metadata": {
      "text/html": [],
      "text/plain": []
     },
     "output_type": "execute_result"
    }
   ],
   "source": [
    "RandomVariate[DiscreteUniformDistribution[{1, 7}], 100]"
   ]
  },
  {
   "cell_type": "code",
   "execution_count": 7,
   "id": "0f72219d",
   "metadata": {},
   "outputs": [
    {
     "data": {
      "text/html": [
       "<div><pre style=\"&#102;&#111;&#110;&#116;&#45;&#102;&#97;&#109;&#105;&#108;&#121;&#58;&#32;&#34;&#67;&#111;&#117;&#114;&#105;&#101;&#114;&#32;&#78;&#101;&#119;&#34;&#44;&#67;&#111;&#117;&#114;&#105;&#101;&#114;&#44;&#109;&#111;&#110;&#111;&#115;&#112;&#97;&#99;&#101;&#59;\">&#52;&#46;&#49;&#50;</pre></div>"
      ],
      "text/plain": [
       "4.12"
      ]
     },
     "execution_count": 7,
     "metadata": {
      "text/html": [],
      "text/plain": []
     },
     "output_type": "execute_result"
    }
   ],
   "source": [
    "N[Mean[RandomVariate[DiscreteUniformDistribution[{1, 7}], 100]]]"
   ]
  },
  {
   "cell_type": "code",
   "execution_count": 8,
   "id": "ff4952ca",
   "metadata": {},
   "outputs": [],
   "source": [
    "a = Table[N[Mean[RandomVariate[DiscreteUniformDistribution[{1, 7}], 100]]], 1000];"
   ]
  },
  {
   "cell_type": "code",
   "execution_count": 9,
   "id": "c56561bd",
   "metadata": {},
   "outputs": [
    {
     "data": {
      "text/html": [
       "<div><img alt=\"Output\" src=\"data:image/png;base64,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\"></div>"
      ],
      "text/plain": [
       "-Graphics-"
      ]
     },
     "execution_count": 9,
     "metadata": {
      "text/html": [],
      "text/plain": []
     },
     "output_type": "execute_result"
    }
   ],
   "source": [
    "Histogram[a]"
   ]
  },
  {
   "cell_type": "code",
   "execution_count": 17,
   "id": "0930b1f8",
   "metadata": {},
   "outputs": [
    {
     "data": {
      "text/html": [
       "<div><img alt=\"Output\" src=\"data:image/png;base64,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\"></div>"
      ],
      "text/plain": [
       "-Graphics-"
      ]
     },
     "execution_count": 17,
     "metadata": {
      "text/html": [],
      "text/plain": []
     },
     "output_type": "execute_result"
    }
   ],
   "source": [
    "Histogram[Table[N[Mean[RandomVariate[DiscreteUniformDistribution[{1, 7}], 50]]], 1000]]"
   ]
  },
  {
   "cell_type": "code",
   "execution_count": 18,
   "id": "54f89e68",
   "metadata": {},
   "outputs": [
    {
     "data": {
      "text/html": [
       "<div><img alt=\"Output\" src=\"data:image/png;base64,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\"></div>"
      ],
      "text/plain": [
       "-Graphics-"
      ]
     },
     "execution_count": 18,
     "metadata": {
      "text/html": [],
      "text/plain": []
     },
     "output_type": "execute_result"
    }
   ],
   "source": [
    "Histogram[Table[Mean[RandomVariate[DiscreteUniformDistribution[{1, 7}], 50]], 1000]]"
   ]
  },
  {
   "cell_type": "code",
   "execution_count": null,
   "id": "c6d1cbfe",
   "metadata": {},
   "outputs": [],
   "source": []
  }
 ],
 "metadata": {
  "kernelspec": {
   "display_name": "Wolfram Language 12.3",
   "language": "Wolfram Language",
   "name": "wolframlanguage12.3"
  },
  "language_info": {
   "codemirror_mode": "mathematica",
   "file_extension": ".m",
   "mimetype": "application/vnd.wolfram.m",
   "name": "Wolfram Language",
   "pygments_lexer": "mathematica",
   "version": "12.0"
  }
 },
 "nbformat": 4,
 "nbformat_minor": 5
}
